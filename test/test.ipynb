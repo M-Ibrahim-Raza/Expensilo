{
 "cells": [
  {
   "cell_type": "code",
   "execution_count": 1,
   "id": "e178185a",
   "metadata": {},
   "outputs": [
    {
     "name": "stdout",
     "output_type": "stream",
     "text": [
      "/home/dev/Desktop/Expensilo\n"
     ]
    }
   ],
   "source": [
    "%cd .."
   ]
  },
  {
   "cell_type": "code",
   "execution_count": 7,
   "id": "82f46f5f",
   "metadata": {},
   "outputs": [],
   "source": [
    "from db.db_setup import SessionLocal,get_db    # Inherit all fields from UserBase"
   ]
  },
  {
   "cell_type": "code",
   "execution_count": 8,
   "id": "f0aea3c5",
   "metadata": {},
   "outputs": [],
   "source": [
    "from schemas.user import UserCreate"
   ]
  },
  {
   "cell_type": "code",
   "execution_count": 9,
   "id": "4b0e939d",
   "metadata": {},
   "outputs": [],
   "source": [
    "new_user_1 = UserCreate(name=\"ebio naaw\",email=\"ebio@gmail.com\",password=\"1123\")"
   ]
  },
  {
   "cell_type": "code",
   "execution_count": 10,
   "id": "3aa24b9d",
   "metadata": {},
   "outputs": [],
   "source": [
    "from services.user import create_user"
   ]
  },
  {
   "cell_type": "code",
   "execution_count": 11,
   "id": "d626210f",
   "metadata": {},
   "outputs": [],
   "source": [
    "with get_db() as db:\n",
    "    create_user(db,new_user_1)"
   ]
  },
  {
   "cell_type": "code",
   "execution_count": null,
   "id": "409b1567",
   "metadata": {},
   "outputs": [],
   "source": []
  }
 ],
 "metadata": {
  "kernelspec": {
   "display_name": "env",
   "language": "python",
   "name": "python3"
  },
  "language_info": {
   "codemirror_mode": {
    "name": "ipython",
    "version": 3
   },
   "file_extension": ".py",
   "mimetype": "text/x-python",
   "name": "python",
   "nbconvert_exporter": "python",
   "pygments_lexer": "ipython3",
   "version": "3.12.3"
  }
 },
 "nbformat": 4,
 "nbformat_minor": 5
}
