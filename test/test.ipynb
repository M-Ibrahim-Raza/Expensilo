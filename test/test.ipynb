{
 "cells": [
  {
   "cell_type": "code",
   "execution_count": 1,
   "id": "e178185a",
   "metadata": {},
   "outputs": [
    {
     "name": "stdout",
     "output_type": "stream",
     "text": [
      "/home/dev/Desktop/Expensilo\n"
     ]
    }
   ],
   "source": [
    "%cd .."
   ]
  },
  {
   "cell_type": "code",
   "execution_count": 2,
   "id": "82f46f5f",
   "metadata": {},
   "outputs": [],
   "source": [
    "from db.db_setup import (\n",
    "    SessionLocal,\n",
    "    get_db,\n",
    "    init_db,\n",
    "    drop_db,\n",
    ")  # Inherit all fields from UserBase"
   ]
  },
  {
   "cell_type": "code",
   "execution_count": 3,
   "id": "4247cabc",
   "metadata": {},
   "outputs": [],
   "source": [
    "drop_db()"
   ]
  },
  {
   "cell_type": "code",
   "execution_count": 4,
   "id": "fadb039b",
   "metadata": {},
   "outputs": [],
   "source": [
    "init_db()"
   ]
  },
  {
   "cell_type": "code",
   "execution_count": 5,
   "id": "f0aea3c5",
   "metadata": {},
   "outputs": [],
   "source": [
    "from schemas.user import UserCreate"
   ]
  },
  {
   "cell_type": "code",
   "execution_count": 7,
   "id": "4b0e939d",
   "metadata": {},
   "outputs": [],
   "source": [
    "test_users = [\n",
    "    UserCreate(\n",
    "        name=\"Alice Example\",\n",
    "        email=\"alice@example.com\",\n",
    "        password=\"alice123\",\n",
    "        google_auth=None,\n",
    "        preferences={\"theme\": \"dark\", \"notifications\": True},\n",
    "    ),\n",
    "    UserCreate(\n",
    "        name=\"Bob Tester\",\n",
    "        email=\"alice@example.com\",\n",
    "        password=\"bobPass456\",\n",
    "        google_auth=\"ya29.A0AVA9y1BobToken...\",\n",
    "        preferences={\"theme\": \"light\", \"notifications\": False},\n",
    "    ),\n",
    "    UserCreate(\n",
    "        name=\"Charlie Dev\",\n",
    "        email=\"charlie@devmail.com\",\n",
    "        password=None,  # Using Google auth only\n",
    "        google_auth=\"ya29.A0AVA9y1CharlieToken...\",\n",
    "        preferences={\"language\": \"en\", \"timezone\": \"UTC\"},\n",
    "    ),\n",
    "    UserCreate(\n",
    "        name=\"Dana Smith\",\n",
    "        email=\"dana.smith@example.org\",\n",
    "        password=\"danaSecure789\",\n",
    "        google_auth=None,\n",
    "        preferences={\"theme\": \"dark\", \"font_size\": \"large\"},\n",
    "    ),\n",
    "    UserCreate(\n",
    "        name=\"Evan Johnson\",\n",
    "        email=\"evan.johnson@testmail.com\",\n",
    "        password=\"evanPass321\",\n",
    "        google_auth=None,\n",
    "        preferences={\"beta_features\": True, \"notifications\": True},\n",
    "    ),\n",
    "]"
   ]
  },
  {
   "cell_type": "code",
   "execution_count": 8,
   "id": "3aa24b9d",
   "metadata": {},
   "outputs": [],
   "source": [
    "from services.user import create_user"
   ]
  },
  {
   "cell_type": "code",
   "execution_count": 9,
   "id": "d626210f",
   "metadata": {},
   "outputs": [],
   "source": [
    "with get_db() as db:\n",
    "    create_user(db, test_users[0])"
   ]
  },
  {
   "cell_type": "code",
   "execution_count": null,
   "id": "409b1567",
   "metadata": {},
   "outputs": [],
   "source": []
  }
 ],
 "metadata": {
  "kernelspec": {
   "display_name": "env",
   "language": "python",
   "name": "python3"
  },
  "language_info": {
   "codemirror_mode": {
    "name": "ipython",
    "version": 3
   },
   "file_extension": ".py",
   "mimetype": "text/x-python",
   "name": "python",
   "nbconvert_exporter": "python",
   "pygments_lexer": "ipython3",
   "version": "3.12.3"
  }
 },
 "nbformat": 4,
 "nbformat_minor": 5
}
