{
 "cells": [
  {
   "cell_type": "code",
   "execution_count": 1,
   "id": "e178185a",
   "metadata": {},
   "outputs": [
    {
     "name": "stdout",
     "output_type": "stream",
     "text": [
      "/home/dev/Desktop/Expensilo\n"
     ]
    }
   ],
   "source": [
    "%cd .."
   ]
  },
  {
   "cell_type": "code",
   "execution_count": 2,
   "id": "82f46f5f",
   "metadata": {},
   "outputs": [],
   "source": [
    "from db.db_setup import (\n",
    "    SessionLocal,\n",
    "    get_db,\n",
    "    init_db,\n",
    "    drop_db,\n",
    ")"
   ]
  },
  {
   "cell_type": "code",
   "execution_count": 3,
   "id": "4247cabc",
   "metadata": {},
   "outputs": [],
   "source": [
    "drop_db()"
   ]
  },
  {
   "cell_type": "code",
   "execution_count": 4,
   "id": "fadb039b",
   "metadata": {},
   "outputs": [],
   "source": [
    "init_db()"
   ]
  },
  {
   "cell_type": "code",
   "execution_count": 5,
   "id": "f0aea3c5",
   "metadata": {},
   "outputs": [],
   "source": [
    "from schemas.user import UserCreate"
   ]
  },
  {
   "cell_type": "code",
   "execution_count": 7,
   "id": "4b0e939d",
   "metadata": {},
   "outputs": [],
   "source": [
    "test_users = [\n",
    "    UserCreate(\n",
    "        name=\"Alice Example\",\n",
    "        email=\"alice@example.com\",\n",
    "        password=\"alice123\",\n",
    "        google_auth=None,\n",
    "        preferences={\"theme\": \"dark\", \"notifications\": True},\n",
    "    ),\n",
    "    UserCreate(\n",
    "        name=\"Bob Tester\",\n",
    "        email=\"alice@example.com\",\n",
    "        password=\"bobPass456\",\n",
    "        google_auth=\"ya29.A0AVA9y1BobToken...\",\n",
    "        preferences={\"theme\": \"light\", \"notifications\": False},\n",
    "    ),\n",
    "    UserCreate(\n",
    "        name=\"Charlie Dev\",\n",
    "        email=\"charlie@devmail.com\",\n",
    "        password=None,  # Using Google auth only\n",
    "        google_auth=\"ya29.A0AVA9y1CharlieToken...\",\n",
    "        preferences={\"language\": \"en\", \"timezone\": \"UTC\"},\n",
    "    ),\n",
    "    UserCreate(\n",
    "        name=\"Dana Smith\",\n",
    "        email=\"dana.smith@example.org\",\n",
    "        password=\"danaSecure789\",\n",
    "        google_auth=None,\n",
    "        preferences={\"theme\": \"dark\", \"font_size\": \"large\"},\n",
    "    ),\n",
    "    UserCreate(\n",
    "        name=\"Evan Johnson\",\n",
    "        email=\"evan.johnson@testmail.com\",\n",
    "        password=\"evanPass321\",\n",
    "        google_auth=None,\n",
    "        preferences={\"beta_features\": True, \"notifications\": True},\n",
    "    ),\n",
    "]"
   ]
  },
  {
   "cell_type": "code",
   "execution_count": 8,
   "id": "3aa24b9d",
   "metadata": {},
   "outputs": [],
   "source": [
    "from services.user import create_user"
   ]
  },
  {
   "cell_type": "code",
   "execution_count": 9,
   "id": "d626210f",
   "metadata": {},
   "outputs": [],
   "source": [
    "with get_db() as db:\n",
    "    create_user(db, test_users[0])"
   ]
  },
  {
   "cell_type": "code",
   "execution_count": 3,
   "id": "298c35f1",
   "metadata": {},
   "outputs": [],
   "source": [
    "from services.category import *"
   ]
  },
  {
   "cell_type": "code",
   "execution_count": null,
   "id": "409b1567",
   "metadata": {},
   "outputs": [
    {
     "name": "stdout",
     "output_type": "stream",
     "text": [
      "1\n"
     ]
    }
   ],
   "source": [
    "with get_db() as db:\n",
    "    id = get_or_create_category(db=db, category_name=\"Rent\")\n",
    "    print(id)"
   ]
  },
  {
   "cell_type": "code",
   "execution_count": null,
   "id": "501fccdc",
   "metadata": {},
   "outputs": [
    {
     "name": "stdout",
     "output_type": "stream",
     "text": [
      "2\n"
     ]
    }
   ],
   "source": [
    "with get_db() as db:\n",
    "    id = get_or_create_category(db=db, category_name=\"Food\")\n",
    "    print(id)"
   ]
  },
  {
   "cell_type": "code",
   "execution_count": null,
   "id": "a446b9cc",
   "metadata": {},
   "outputs": [
    {
     "name": "stdout",
     "output_type": "stream",
     "text": [
      "3\n"
     ]
    }
   ],
   "source": [
    "with get_db() as db:\n",
    "    id = get_or_create_category(db=db, category_name=\"Transport\")\n",
    "    print(id)"
   ]
  },
  {
   "cell_type": "code",
   "execution_count": null,
   "id": "13390629",
   "metadata": {},
   "outputs": [
    {
     "name": "stdout",
     "output_type": "stream",
     "text": [
      "2\n"
     ]
    }
   ],
   "source": [
    "with get_db() as db:\n",
    "    id = get_or_create_category(db=db, category_name=\"Food\")\n",
    "    print(id)"
   ]
  },
  {
   "cell_type": "code",
   "execution_count": 8,
   "id": "7cdeb041",
   "metadata": {},
   "outputs": [],
   "source": [
    "with get_db() as db:\n",
    "    read_categories(db=db)"
   ]
  },
  {
   "cell_type": "code",
   "execution_count": null,
   "id": "7fb5925e",
   "metadata": {},
   "outputs": [
    {
     "name": "stdout",
     "output_type": "stream",
     "text": [
      "categories=[CategoryRead(id=1, name='Rent'), CategoryRead(id=2, name='Food'), CategoryRead(id=3, name='Transport')]\n"
     ]
    }
   ],
   "source": [
    "with get_db() as db:\n",
    "    categories = read_categories(db=db)\n",
    "    print(categories)"
   ]
  },
  {
   "cell_type": "code",
   "execution_count": 1,
   "id": "b2ff60ad",
   "metadata": {},
   "outputs": [
    {
     "name": "stdout",
     "output_type": "stream",
     "text": [
      "/home/dev/Desktop/Expensilo\n"
     ]
    }
   ],
   "source": [
    "%cd .."
   ]
  },
  {
   "cell_type": "code",
   "execution_count": 5,
   "id": "272356da",
   "metadata": {},
   "outputs": [
    {
     "ename": "AttributeError",
     "evalue": "Neither 'InstrumentedAttribute' object nor 'Comparator' object associated with UserTransaction.transaction has an attribute 'category'",
     "output_type": "error",
     "traceback": [
      "\u001b[31m---------------------------------------------------------------------------\u001b[39m",
      "\u001b[31mAttributeError\u001b[39m                            Traceback (most recent call last)",
      "\u001b[36mFile \u001b[39m\u001b[32m~/Desktop/Expensilo/env/lib/python3.12/site-packages/sqlalchemy/orm/attributes.py:475\u001b[39m, in \u001b[36mQueryableAttribute.__getattr__\u001b[39m\u001b[34m(self, key)\u001b[39m\n\u001b[32m    474\u001b[39m \u001b[38;5;28;01mtry\u001b[39;00m:\n\u001b[32m--> \u001b[39m\u001b[32m475\u001b[39m     \u001b[38;5;28;01mreturn\u001b[39;00m \u001b[38;5;28;43mgetattr\u001b[39;49m\u001b[43m(\u001b[49m\u001b[38;5;28;43mself\u001b[39;49m\u001b[43m.\u001b[49m\u001b[43mcomparator\u001b[49m\u001b[43m,\u001b[49m\u001b[43m \u001b[49m\u001b[43mkey\u001b[49m\u001b[43m)\u001b[49m\n\u001b[32m    476\u001b[39m \u001b[38;5;28;01mexcept\u001b[39;00m \u001b[38;5;167;01mAttributeError\u001b[39;00m \u001b[38;5;28;01mas\u001b[39;00m err:\n",
      "\u001b[36mFile \u001b[39m\u001b[32m~/Desktop/Expensilo/env/lib/python3.12/site-packages/sqlalchemy/util/langhelpers.py:1413\u001b[39m, in \u001b[36mMemoizedSlots.__getattr__\u001b[39m\u001b[34m(self, key)\u001b[39m\n\u001b[32m   1412\u001b[39m \u001b[38;5;28;01melse\u001b[39;00m:\n\u001b[32m-> \u001b[39m\u001b[32m1413\u001b[39m     \u001b[38;5;28;01mreturn\u001b[39;00m \u001b[38;5;28;43mself\u001b[39;49m\u001b[43m.\u001b[49m\u001b[43m_fallback_getattr\u001b[49m\u001b[43m(\u001b[49m\u001b[43mkey\u001b[49m\u001b[43m)\u001b[49m\n",
      "\u001b[36mFile \u001b[39m\u001b[32m~/Desktop/Expensilo/env/lib/python3.12/site-packages/sqlalchemy/util/langhelpers.py:1382\u001b[39m, in \u001b[36mMemoizedSlots._fallback_getattr\u001b[39m\u001b[34m(self, key)\u001b[39m\n\u001b[32m   1381\u001b[39m \u001b[38;5;28;01mdef\u001b[39;00m\u001b[38;5;250m \u001b[39m\u001b[34m_fallback_getattr\u001b[39m(\u001b[38;5;28mself\u001b[39m, key):\n\u001b[32m-> \u001b[39m\u001b[32m1382\u001b[39m     \u001b[38;5;28;01mraise\u001b[39;00m \u001b[38;5;167;01mAttributeError\u001b[39;00m(key)\n",
      "\u001b[31mAttributeError\u001b[39m: category",
      "\nThe above exception was the direct cause of the following exception:\n",
      "\u001b[31mAttributeError\u001b[39m                            Traceback (most recent call last)",
      "\u001b[36mCell\u001b[39m\u001b[36m \u001b[39m\u001b[32mIn[5]\u001b[39m\u001b[32m, line 18\u001b[39m\n\u001b[32m      8\u001b[39m \u001b[38;5;28;01mwith\u001b[39;00m get_db() \u001b[38;5;28;01mas\u001b[39;00m db:\n\u001b[32m      9\u001b[39m     user_transaction_request = UserTransactionRequest(\n\u001b[32m     10\u001b[39m         amount=\u001b[32m1500\u001b[39m,\n\u001b[32m     11\u001b[39m         details=\u001b[33m\"\u001b[39m\u001b[33mKFC Dinner\u001b[39m\u001b[33m\"\u001b[39m,\n\u001b[32m   (...)\u001b[39m\u001b[32m     15\u001b[39m         title=\u001b[33m\"\u001b[39m\u001b[33mNight Dinner\u001b[39m\u001b[33m\"\u001b[39m,\n\u001b[32m     16\u001b[39m     )\n\u001b[32m---> \u001b[39m\u001b[32m18\u001b[39m     \u001b[43madd_user_transaction\u001b[49m\u001b[43m(\u001b[49m\u001b[43mdb\u001b[49m\u001b[43m=\u001b[49m\u001b[43mdb\u001b[49m\u001b[43m,\u001b[49m\u001b[43m \u001b[49m\u001b[43muser_id\u001b[49m\u001b[43m=\u001b[49m\u001b[32;43m3\u001b[39;49m\u001b[43m,\u001b[49m\u001b[43muser_transaction_request\u001b[49m\u001b[43m=\u001b[49m\u001b[43muser_transaction_request\u001b[49m\u001b[43m)\u001b[49m\n",
      "\u001b[36mFile \u001b[39m\u001b[32m~/Desktop/Expensilo/services/user_transaction.py:61\u001b[39m, in \u001b[36madd_user_transaction\u001b[39m\u001b[34m(db, user_id, user_transaction_request)\u001b[39m\n\u001b[32m      0\u001b[39m <Error retrieving source code with stack_data see ipython/ipython#13598>\n",
      "\u001b[36mFile \u001b[39m\u001b[32m~/Desktop/Expensilo/schemas/user_transaction.py:139\u001b[39m, in \u001b[36mUserTransactionResponse.from_orm_obj\u001b[39m\u001b[34m(cls, obj)\u001b[39m\n\u001b[32m    125\u001b[39m \u001b[38;5;129m@classmethod\u001b[39m\n\u001b[32m    126\u001b[39m \u001b[38;5;28;01mdef\u001b[39;00m\u001b[38;5;250m \u001b[39m\u001b[34mfrom_orm_obj\u001b[39m(\n\u001b[32m    127\u001b[39m     \u001b[38;5;28mcls\u001b[39m: Type[\u001b[33m\"\u001b[39m\u001b[33mUserTransactionResponse\u001b[39m\u001b[33m\"\u001b[39m], obj: \u001b[33m\"\u001b[39m\u001b[33mUserTransaction\u001b[39m\u001b[33m\"\u001b[39m\n\u001b[32m    128\u001b[39m ) -> \u001b[33m\"\u001b[39m\u001b[33mUserTransactionResponse\u001b[39m\u001b[33m\"\u001b[39m:\n\u001b[32m    130\u001b[39m     \u001b[38;5;28;01mreturn\u001b[39;00m \u001b[38;5;28mcls\u001b[39m(\n\u001b[32m    131\u001b[39m         user_id=obj.user_id,\n\u001b[32m    132\u001b[39m         amount=obj.amount,\n\u001b[32m    133\u001b[39m         details=obj.details,\n\u001b[32m    134\u001b[39m         attachments=obj.attachments,\n\u001b[32m    135\u001b[39m         created_at=obj.created_at,\n\u001b[32m    136\u001b[39m         updated_at=obj.updated_at,\n\u001b[32m    137\u001b[39m         category=(\n\u001b[32m    138\u001b[39m             obj.transaction.category.name\n\u001b[32m--> \u001b[39m\u001b[32m139\u001b[39m             \u001b[38;5;28;01mif\u001b[39;00m obj.transaction \u001b[38;5;129;01mand\u001b[39;00m \u001b[43mobj\u001b[49m\u001b[43m.\u001b[49m\u001b[43mtransaction\u001b[49m\u001b[43m.\u001b[49m\u001b[43mcategory\u001b[49m\n\u001b[32m    140\u001b[39m             \u001b[38;5;28;01melse\u001b[39;00m \u001b[38;5;28;01mNone\u001b[39;00m\n\u001b[32m    141\u001b[39m         ),\n\u001b[32m    142\u001b[39m         \u001b[38;5;28mtype\u001b[39m=obj.transaction.type \u001b[38;5;28;01mif\u001b[39;00m obj.transaction \u001b[38;5;28;01melse\u001b[39;00m \u001b[38;5;28;01mNone\u001b[39;00m,\n\u001b[32m    143\u001b[39m         title=obj.transaction.title \u001b[38;5;28;01mif\u001b[39;00m obj.transaction \u001b[38;5;28;01melse\u001b[39;00m \u001b[38;5;28;01mNone\u001b[39;00m,\n\u001b[32m    144\u001b[39m     )\n",
      "\u001b[36mFile \u001b[39m\u001b[32m~/Desktop/Expensilo/env/lib/python3.12/site-packages/sqlalchemy/orm/attributes.py:477\u001b[39m, in \u001b[36mQueryableAttribute.__getattr__\u001b[39m\u001b[34m(self, key)\u001b[39m\n\u001b[32m    475\u001b[39m     \u001b[38;5;28;01mreturn\u001b[39;00m \u001b[38;5;28mgetattr\u001b[39m(\u001b[38;5;28mself\u001b[39m.comparator, key)\n\u001b[32m    476\u001b[39m \u001b[38;5;28;01mexcept\u001b[39;00m \u001b[38;5;167;01mAttributeError\u001b[39;00m \u001b[38;5;28;01mas\u001b[39;00m err:\n\u001b[32m--> \u001b[39m\u001b[32m477\u001b[39m     \u001b[38;5;28;01mraise\u001b[39;00m \u001b[38;5;167;01mAttributeError\u001b[39;00m(\n\u001b[32m    478\u001b[39m         \u001b[33m\"\u001b[39m\u001b[33mNeither \u001b[39m\u001b[38;5;132;01m%r\u001b[39;00m\u001b[33m object nor \u001b[39m\u001b[38;5;132;01m%r\u001b[39;00m\u001b[33m object associated with \u001b[39m\u001b[38;5;132;01m%s\u001b[39;00m\u001b[33m \u001b[39m\u001b[33m\"\u001b[39m\n\u001b[32m    479\u001b[39m         \u001b[33m\"\u001b[39m\u001b[33mhas an attribute \u001b[39m\u001b[38;5;132;01m%r\u001b[39;00m\u001b[33m\"\u001b[39m\n\u001b[32m    480\u001b[39m         % (\n\u001b[32m    481\u001b[39m             \u001b[38;5;28mtype\u001b[39m(\u001b[38;5;28mself\u001b[39m).\u001b[34m__name__\u001b[39m,\n\u001b[32m    482\u001b[39m             \u001b[38;5;28mtype\u001b[39m(\u001b[38;5;28mself\u001b[39m.comparator).\u001b[34m__name__\u001b[39m,\n\u001b[32m    483\u001b[39m             \u001b[38;5;28mself\u001b[39m,\n\u001b[32m    484\u001b[39m             key,\n\u001b[32m    485\u001b[39m         )\n\u001b[32m    486\u001b[39m     ) \u001b[38;5;28;01mfrom\u001b[39;00m\u001b[38;5;250m \u001b[39m\u001b[34;01merr\u001b[39;00m\n",
      "\u001b[31mAttributeError\u001b[39m: Neither 'InstrumentedAttribute' object nor 'Comparator' object associated with UserTransaction.transaction has an attribute 'category'"
     ]
    }
   ],
   "source": [
    "from db.db_setup import (\n",
    "    get_db,\n",
    ")  # Inherit all fields from UserBase\n",
    "from services.user_transaction import add_user_transaction\n",
    "from schemas.user_transaction import UserTransactionRequest\n",
    "\n",
    "\n",
    "with get_db() as db:\n",
    "    user_transaction_request = UserTransactionRequest(\n",
    "        amount=1500,\n",
    "        details=\"KFC Dinner\",\n",
    "        attachments=[\"receipt.png\"],\n",
    "        category=\"Food\",\n",
    "        type=\"EXPENSE\",\n",
    "        title=\"Night Dinner\",\n",
    "    )\n",
    "\n",
    "    add_user_transaction(db=db, user_id=3,user_transaction_request=user_transaction_request)"
   ]
  },
  {
   "cell_type": "code",
   "execution_count": null,
   "id": "a42de6af",
   "metadata": {},
   "outputs": [],
   "source": []
  }
 ],
 "metadata": {
  "kernelspec": {
   "display_name": "env",
   "language": "python",
   "name": "python3"
  },
  "language_info": {
   "codemirror_mode": {
    "name": "ipython",
    "version": 3
   },
   "file_extension": ".py",
   "mimetype": "text/x-python",
   "name": "python",
   "nbconvert_exporter": "python",
   "pygments_lexer": "ipython3",
   "version": "3.12.3"
  }
 },
 "nbformat": 4,
 "nbformat_minor": 5
}
