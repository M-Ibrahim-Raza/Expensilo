{
 "cells": [
  {
   "cell_type": "markdown",
   "id": "f9bbaa7b",
   "metadata": {},
   "source": [
    "<Pydantic_Model>.model_validate() work on ORM models"
   ]
  },
  {
   "cell_type": "markdown",
   "id": "fbeab436",
   "metadata": {},
   "source": [
    "<Pydantic_Model>.model_validate() does not work on keyword arguments"
   ]
  },
  {
   "cell_type": "markdown",
   "id": "06ddec97",
   "metadata": {},
   "source": [
    "<Pydantic_Model>() is used for keyword arguments"
   ]
  },
  {
   "cell_type": "code",
   "execution_count": null,
   "id": "bdf5a3fd",
   "metadata": {},
   "outputs": [],
   "source": []
  },
  {
   "cell_type": "markdown",
   "id": "df0299fd",
   "metadata": {},
   "source": []
  }
 ],
 "metadata": {
  "kernelspec": {
   "display_name": "env",
   "language": "python",
   "name": "python3"
  },
  "language_info": {
   "codemirror_mode": {
    "name": "ipython",
    "version": 3
   },
   "file_extension": ".py",
   "mimetype": "text/x-python",
   "name": "python",
   "nbconvert_exporter": "python",
   "pygments_lexer": "ipython3",
   "version": "3.12.3"
  }
 },
 "nbformat": 4,
 "nbformat_minor": 5
}
